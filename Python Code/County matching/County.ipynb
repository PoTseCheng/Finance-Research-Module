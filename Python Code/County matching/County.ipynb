{
 "metadata": {
  "language_info": {
   "codemirror_mode": {
    "name": "ipython",
    "version": 3
   },
   "file_extension": ".py",
   "mimetype": "text/x-python",
   "name": "python",
   "nbconvert_exporter": "python",
   "pygments_lexer": "ipython3",
   "version": "3.7.7-final"
  },
  "orig_nbformat": 2,
  "kernelspec": {
   "name": "python3",
   "display_name": "Python 3",
   "language": "python"
  }
 },
 "nbformat": 4,
 "nbformat_minor": 2,
 "cells": [
  {
   "cell_type": "code",
   "execution_count": 1,
   "metadata": {},
   "outputs": [],
   "source": [
    "import pandas as pd\n",
    "#import custom function\n",
    "from County import*"
   ]
  },
  {
   "source": [
    "Please ensure to have the following packages in the python:\n",
    "\n",
    "- Geopy\n",
    "- Numpy\n",
    "- Pandas\n",
    "\n",
    "--- \n",
    "Below is how the code is called, notice that the function itself will automatically save the file in the same folder of the original csv."
   ],
   "cell_type": "markdown",
   "metadata": {}
  },
  {
   "cell_type": "code",
   "execution_count": 2,
   "metadata": {},
   "outputs": [
    {
     "output_type": "stream",
     "name": "stdout",
     "text": [
      "This function takes approximately 2641.903172492981 seconds to run.\n"
     ]
    }
   ],
   "source": [
    "county(\"Viki\")"
   ]
  }
 ]
}