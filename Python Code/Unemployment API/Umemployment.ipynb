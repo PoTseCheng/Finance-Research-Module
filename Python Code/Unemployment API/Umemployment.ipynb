{
 "metadata": {
  "language_info": {
   "codemirror_mode": {
    "name": "ipython",
    "version": 3
   },
   "file_extension": ".py",
   "mimetype": "text/x-python",
   "name": "python",
   "nbconvert_exporter": "python",
   "pygments_lexer": "ipython3",
   "version": "3.7.7-final"
  },
  "orig_nbformat": 2,
  "kernelspec": {
   "name": "python3",
   "display_name": "Python 3",
   "language": "python"
  }
 },
 "nbformat": 4,
 "nbformat_minor": 2,
 "cells": [
  {
   "cell_type": "code",
   "execution_count": 1,
   "metadata": {},
   "outputs": [],
   "source": [
    "import pandas as pd \n",
    "#import custom function\n",
    "from Umemployment import*"
   ]
  },
  {
   "source": [
    "This notebook is the demonstration of the function get_unemployment(), notice that please ensure a stable connection during running this function, as it requires requesting data from the BLS API."
   ],
   "cell_type": "markdown",
   "metadata": {}
  },
  {
   "cell_type": "code",
   "execution_count": 2,
   "metadata": {},
   "outputs": [
    {
     "output_type": "stream",
     "name": "stdout",
     "text": [
      "Total Time for running this function is 3153.659833908081 seconds\n"
     ]
    }
   ],
   "source": [
    "get_umemployment()"
   ]
  }
 ]
}